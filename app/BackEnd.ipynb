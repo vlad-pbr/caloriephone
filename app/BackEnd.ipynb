{
 "cells": [
  {
   "cell_type": "markdown",
   "source": [
    "Making the backend server\n"
   ],
   "metadata": {
    "collapsed": false
   }
  },
  {
   "cell_type": "raw",
   "source": [
    "we can (finally) start coding our backend application. Open up the Python file you have created, imgrec_webapp.py. As usual, we will import some of the necessary functions that you will need later:"
   ],
   "metadata": {
    "collapsed": false,
    "pycharm": {
     "name": "#%% raw\n"
    }
   }
  },
  {
   "cell_type": "code",
   "execution_count": null,
   "outputs": [],
   "source": [
    "import os\n",
    "from flask import Flask, request, redirect, url_for, render_template\n",
    "from werkzeug.utils import secure_filename"
   ],
   "metadata": {
    "collapsed": false,
    "pycharm": {
     "name": "#%%\n"
    }
   }
  },
  {
   "cell_type": "markdown",
   "source": [
    "Then, we create an instance of a Flask app which just one line of code:"
   ],
   "metadata": {
    "collapsed": false,
    "pycharm": {
     "name": "#%% md\n"
    }
   }
  },
  {
   "cell_type": "code",
   "execution_count": null,
   "outputs": [],
   "source": [
    "app = Flask(__name__)"
   ],
   "metadata": {
    "collapsed": false,
    "pycharm": {
     "name": "#%%\n"
    }
   }
  },
  {
   "cell_type": "markdown",
   "source": [
    "We’ll add more to the Flask app later. For now, let’s load our Machine Learning model that we’ve already saved. We call the following functions and load the model like this:\n",
    "We'll call our model: --need to complete --"
   ],
   "metadata": {
    "collapsed": false,
    "pycharm": {
     "name": "#%% md\n"
    }
   }
  },
  {
   "cell_type": "code",
   "execution_count": null,
   "outputs": [],
   "source": [
    "from keras.models import load_model\n",
    "from keras.backend import set_session\n",
    "from skimage.transform import resize\n",
    "import matplotlib.pyplot as plt\n",
    "import tensorflow as tf\n",
    "import numpy as np\n",
    "\n",
    "print(\"Loading model\")\n",
    "\n",
    "global sess\n",
    "sess = tf.Session()\n",
    "set_session(sess)\n",
    "global model\n",
    "model = load_model('our model -- update')\n",
    "global graph\n",
    "graph = tf.get_default_graph()"
   ],
   "metadata": {
    "collapsed": false,
    "pycharm": {
     "name": "#%%\n"
    }
   }
  },
  {
   "cell_type": "markdown",
   "source": [
    "Now that we’ve got our model running, let’s add to our Flask web app. The first thing we want to do is state what the web application will do when it hits a certain URL. To define that, we use the@app.route() function. For my main page, I will use the default URL (i.e. I won’t have any additional “suffixes” to my URL) and so my first parameter will be '/'. An user will interact with my main page in two ways:\n",
    "\n",
    "1) Load the web page from the server into his browser\n",
    "2) Upload his image and send it to the server\n",
    "\n",
    "This requires two different methods of interacting with this page: Interaction #1 will use “GET” (a method primarily for an user to request data from a resource), while interaction #2 will use “POST” (a method primarily for an user to send data to a server to create or update a resource). The code block below therefore says that if I’m at interaction #2, save the file in my “uploads” folder and go to the “prediction” page (and pass in the parameter filename). If not, I’m at interaction #1 and just render the webpage “index.html”."
   ],
   "metadata": {
    "collapsed": false,
    "pycharm": {
     "name": "#%% md\n"
    }
   }
  },
  {
   "cell_type": "code",
   "execution_count": null,
   "outputs": [],
   "source": [
    "@app.route('/', methods=['GET', 'POST'])\n",
    "def main_page():\n",
    "    if request.method == 'POST':\n",
    "        file = request.files['file']\n",
    "        filename = secure_filename(file.filename)\n",
    "        file.save(os.path.join('uploads', filename))\n",
    "        return redirect(url_for('prediction', filename=filename))\n",
    "    return render_template('index.html')"
   ],
   "metadata": {
    "collapsed": false,
    "pycharm": {
     "name": "#%%\n"
    }
   }
  },
  {
   "cell_type": "markdown",
   "source": [
    "Now, we have to create a “prediction” page to go to, and define what the Web app should do when an user is at that page. We use the @app.route()function again, and say that if an user is at the /prediction/<filename> subdirectory, pass in the <filename> into the Python function that I define for that page.\n",
    "\n",
    "In this prediction page, We will:\n",
    "\n",
    "1) Read the image based on the filename, and store it as my_image\n",
    "2) Using the model, predict the probabilities that the image falls into the various classes, and put that under the variable probabilities\n",
    "3) Find the label and the probability of the top three most probable classes, and put them under predictions\n",
    "4) Load the template of my webpage predict.html and give them the predictions in Step 3.\n",
    "\n",
    "The five steps are reflected below:"
   ],
   "metadata": {
    "collapsed": false,
    "pycharm": {
     "name": "#%% md\n"
    }
   }
  },
  {
   "cell_type": "code",
   "execution_count": null,
   "outputs": [],
   "source": [
    "@app.route('/prediction/<filename>')\n",
    "def prediction(filename):\n",
    "    #Step 1\n",
    "    my_image = plt.imread(os.path.join('uploads', filename))\n",
    "    #Step 2\n",
    "    #my_image_re = resize(my_image, (32,32,3))\n",
    "\n",
    "    #Step 3\n",
    "    with graph.as_default():\n",
    "      set_session(sess)\n",
    "      probabilities = model.predict(np.array( [my_image,] ))[0,:]\n",
    "      print(probabilities)\n",
    "#Step 4\n",
    "      number_to_class = open(\"food101_to_csv_values_translation\", \"r\")\n",
    "      index = np.argsort(probabilities)\n",
    "      predictions = {\n",
    "        \"class1\":number_to_class[index[9]],\n",
    "        \"class2\":number_to_class[index[8]],\n",
    "        \"class3\":number_to_class[index[7]],\n",
    "        \"prob1\":probabilities[index[9]],\n",
    "        \"prob2\":probabilities[index[8]],\n",
    "        \"prob3\":probabilities[index[7]],\n",
    "      }\n",
    "#Step 5\n",
    "    return render_template('predict.html', predictions=predictions)"
   ],
   "metadata": {
    "collapsed": false,
    "pycharm": {
     "name": "#%%\n"
    }
   }
  },
  {
   "cell_type": "markdown",
   "source": [
    "All this should be pretty familiar, if you need a refresher, please visit the tutorial:\n",
    "\n",
    "Lastly, we run the app with port 80, which is the standard port for accessing web pages. Type this at the end of your Python file:"
   ],
   "metadata": {
    "collapsed": false,
    "pycharm": {
     "name": "#%% md\n"
    }
   }
  },
  {
   "cell_type": "code",
   "execution_count": 1,
   "outputs": [
    {
     "ename": "NameError",
     "evalue": "name 'app' is not defined",
     "output_type": "error",
     "traceback": [
      "\u001B[1;31m---------------------------------------------------------------------------\u001B[0m",
      "\u001B[1;31mNameError\u001B[0m                                 Traceback (most recent call last)",
      "\u001B[1;32m~\\AppData\\Local\\Temp/ipykernel_2868/2902298735.py\u001B[0m in \u001B[0;36m<module>\u001B[1;34m\u001B[0m\n\u001B[1;32m----> 1\u001B[1;33m \u001B[0mapp\u001B[0m\u001B[1;33m.\u001B[0m\u001B[0mrun\u001B[0m\u001B[1;33m(\u001B[0m\u001B[0mhost\u001B[0m\u001B[1;33m=\u001B[0m\u001B[1;34m'0.0.0.0'\u001B[0m\u001B[1;33m,\u001B[0m \u001B[0mport\u001B[0m\u001B[1;33m=\u001B[0m\u001B[1;36m80\u001B[0m\u001B[1;33m)\u001B[0m\u001B[1;33m\u001B[0m\u001B[1;33m\u001B[0m\u001B[0m\n\u001B[0m",
      "\u001B[1;31mNameError\u001B[0m: name 'app' is not defined"
     ]
    }
   ],
   "source": [
    "app.run(host='0.0.0.0', port=80)\n",
    "#Dana website / Or use loackhost"
   ],
   "metadata": {
    "collapsed": false,
    "pycharm": {
     "name": "#%%\n"
    }
   }
  },
  {
   "cell_type": "markdown",
   "source": [
    "Now we have the backbones of our Web application. You might have noticed that we are still missing a few different pieces though. In particular, we’ve called on the HTML web pages like index.html and predict.html but we’ve not built them yet! We will do so in th"
   ],
   "metadata": {
    "collapsed": false,
    "pycharm": {
     "name": "#%% md\n"
    }
   }
  }
 ],
 "metadata": {
  "kernelspec": {
   "display_name": "Python 3",
   "language": "python",
   "name": "python3"
  },
  "language_info": {
   "codemirror_mode": {
    "name": "ipython",
    "version": 2
   },
   "file_extension": ".py",
   "mimetype": "text/x-python",
   "name": "python",
   "nbconvert_exporter": "python",
   "pygments_lexer": "ipython2",
   "version": "2.7.6"
  }
 },
 "nbformat": 4,
 "nbformat_minor": 0
}